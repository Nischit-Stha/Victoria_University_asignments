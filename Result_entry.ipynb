{
  "nbformat": 4,
  "nbformat_minor": 0,
  "metadata": {
    "colab": {
      "provenance": [],
      "authorship_tag": "ABX9TyOnPUIR+HpDzr7m/c8IlB+k",
      "include_colab_link": true
    },
    "kernelspec": {
      "name": "python3",
      "display_name": "Python 3"
    },
    "language_info": {
      "name": "python"
    }
  },
  "cells": [
    {
      "cell_type": "markdown",
      "metadata": {
        "id": "view-in-github",
        "colab_type": "text"
      },
      "source": [
        "<a href=\"https://colab.research.google.com/github/Nischit-Stha/Victoria_University_asignments/blob/main/Result_entry.ipynb\" target=\"_parent\"><img src=\"https://colab.research.google.com/assets/colab-badge.svg\" alt=\"Open In Colab\"/></a>"
      ]
    },
    {
      "cell_type": "code",
      "source": [
        "\"\"\"\n",
        "Student Name: Nischit Shrestha\n",
        "Student ID: s8168204\n",
        "\"\"\"\n",
        "\n",
        "QUIT = 999\n",
        "MIN = 0\n",
        "MAX = 100\n",
        "\n",
        "def read_marks():\n",
        "    count = 0\n",
        "    total = 0\n",
        "\n",
        "    while True:\n",
        "        mark = float(input(f\"Enter marks between {MIN} to {MAX} (or {QUIT} to quit): \"))\n",
        "\n",
        "        if mark == QUIT:\n",
        "            break\n",
        "\n",
        "        if MIN <= mark <= MAX:\n",
        "            count += 1\n",
        "            total += mark\n",
        "        else:\n",
        "            print(\"Number is out of range, please enter a valid mark.\")\n",
        "\n",
        "    return count, total\n",
        "\n",
        "def class_average(marks):\n",
        "    count, total = marks\n",
        "    if count == 0:\n",
        "        return 0\n",
        "    return total / count\n",
        "\n",
        "def main():\n",
        "    marks = read_marks()\n",
        "    average = class_average(marks)  # Fixed spelling\n",
        "    print(f\"The class average is {average:.2f}\")\n",
        "\n",
        "if __name__ == \"__main__\":\n",
        "    main()"
      ],
      "metadata": {
        "colab": {
          "base_uri": "https://localhost:8080/"
        },
        "id": "B_YsxXkDO4el",
        "outputId": "4fea620e-8324-43f0-c636-91c36818faa9"
      },
      "execution_count": null,
      "outputs": [
        {
          "output_type": "stream",
          "name": "stdout",
          "text": [
            "Enter marks between 0 to 100 (or 999 to quit): 80\n",
            "Enter marks between 0 to 100 (or 999 to quit): 70\n",
            "Enter marks between 0 to 100 (or 999 to quit): 90\n",
            "Enter marks between 0 to 100 (or 999 to quit): 85\n",
            "Enter marks between 0 to 100 (or 999 to quit): 999\n",
            "The class average is 81.25\n"
          ]
        }
      ]
    },
    {
      "cell_type": "code",
      "source": [
        "\"\"\"\n",
        "Student Name: Nischit Shrestha\n",
        "Student ID: s8168204\n",
        "\"\"\"\n",
        "\n",
        "QUIT = 999\n",
        "MIN = 0\n",
        "MAX = 100\n",
        "\n",
        "def read_marks():\n",
        "    count = 0\n",
        "    total = 0\n",
        "\n",
        "    while True:\n",
        "        mark = float(input(f\"Enter marks between {MIN} to {MAX} (or {QUIT} to quit): \"))\n",
        "\n",
        "        if mark == QUIT:\n",
        "            break  # Proper break statement\n",
        "\n",
        "        if MIN <= mark <= MAX:\n",
        "            count += 1\n",
        "            total += mark\n",
        "        else:\n",
        "            print(\"Number is out of range, please enter a valid mark.\")\n",
        "\n",
        "    return count, total\n",
        "\n",
        "def class_average(marks):\n",
        "    count, total = marks\n",
        "    if count == 0:\n",
        "        return 0\n",
        "    return total / count\n",
        "\n",
        "def main():\n",
        "    marks = read_marks()\n",
        "    average = class_average(marks)  # Fixed spelling & function behavior\n",
        "    print(f\"Average mark for {count} students is: {average:.2f}\")  # Rounded for readability\n",
        "\n",
        "if __name__ == \"__main__\":\n",
        "    main()\n"
      ],
      "metadata": {
        "colab": {
          "base_uri": "https://localhost:8080/"
        },
        "id": "JloIr-RmRs5E",
        "outputId": "a44466a0-b79e-44fb-91ee-b7fe5380e4f3"
      },
      "execution_count": null,
      "outputs": [
        {
          "output_type": "stream",
          "name": "stdout",
          "text": [
            "Enter marks between 0 to 100 (or 999 to quit): 80\n",
            "Enter marks between 0 to 100 (or 999 to quit): 70\n",
            "Enter marks between 0 to 100 (or 999 to quit): 90\n",
            "Enter marks between 0 to 100 (or 999 to quit): 85\n",
            "Enter marks between 0 to 100 (or 999 to quit): 999\n",
            "The class average is 81.25\n"
          ]
        }
      ]
    },
    {
      "cell_type": "code",
      "source": [
        "\"\"\"\n",
        "Student Name: Nischit Shrestha\n",
        "Student ID: s8168204\n",
        "\"\"\"\n",
        "\n",
        "QUIT = 999\n",
        "MIN = 0\n",
        "MAX = 100\n",
        "\n",
        "def read_marks():\n",
        "    count = 0\n",
        "    total = 0\n",
        "\n",
        "    while True:\n",
        "        try:\n",
        "            mark = float(input(f\"Enter marks between {MIN} to {MAX} (or {QUIT} to quit): \"))\n",
        "        except ValueError:\n",
        "            print(\"Invalid input. Please enter a number.\")\n",
        "            continue\n",
        "\n",
        "        if mark == QUIT:\n",
        "            break\n",
        "\n",
        "        if MIN <= mark <= MAX:\n",
        "            count += 1\n",
        "            total += mark\n",
        "        else:\n",
        "            print(\"Number is out of range, please enter a valid mark.\")\n",
        "\n",
        "    print(f\"count = {count}, total = {total}\")\n",
        "    return count, total\n",
        "\n",
        "def class_average(count, total):\n",
        "    if count == 0:\n",
        "        return 0\n",
        "    return total / count\n",
        "\n",
        "def main():\n",
        "    (count, total) = read_marks()\n",
        "    print(read_marks())\n",
        "\n",
        "    average = class_average(count, total)\n",
        "\n",
        "    print(f\"Average mark for {count} students is: {average:.2f}\")\n",
        "\n",
        "if __name__ == \"__main__\":\n",
        "    main()"
      ],
      "metadata": {
        "colab": {
          "base_uri": "https://localhost:8080/"
        },
        "id": "UaTNG9h2SWrF",
        "outputId": "f0becad2-5874-4bd0-9c32-15047a72e0a5"
      },
      "execution_count": null,
      "outputs": [
        {
          "output_type": "stream",
          "name": "stdout",
          "text": [
            "Enter marks between 0 to 100 (or 999 to quit): 80\n",
            "Enter marks between 0 to 100 (or 999 to quit): 70\n",
            "Enter marks between 0 to 100 (or 999 to quit): 90\n",
            "Enter marks between 0 to 100 (or 999 to quit): 999\n",
            "count = 3, total = 240.0\n",
            "Enter marks between 0 to 100 (or 999 to quit): 708\n",
            "Number is out of range, please enter a valid mark.\n",
            "Enter marks between 0 to 100 (or 999 to quit): 40\n",
            "Enter marks between 0 to 100 (or 999 to quit): 4\n",
            "Enter marks between 0 to 100 (or 999 to quit): 10\n",
            "Enter marks between 0 to 100 (or 999 to quit): 40\n",
            "Enter marks between 0 to 100 (or 999 to quit): 888\n",
            "Number is out of range, please enter a valid mark.\n",
            "Enter marks between 0 to 100 (or 999 to quit): 999\n",
            "count = 4, total = 94.0\n",
            "(4, 94.0)\n",
            "Average mark for 3 students is: 80.00\n"
          ]
        }
      ]
    },
    {
      "cell_type": "code",
      "source": [],
      "metadata": {
        "id": "dgryxPOGUPQc"
      },
      "execution_count": null,
      "outputs": []
    }
  ]
}