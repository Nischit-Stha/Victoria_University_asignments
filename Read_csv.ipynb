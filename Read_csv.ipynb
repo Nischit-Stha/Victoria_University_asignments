{
  "nbformat": 4,
  "nbformat_minor": 0,
  "metadata": {
    "colab": {
      "provenance": [],
      "authorship_tag": "ABX9TyOAtDLa1mNI4fpcqZvjK2An",
      "include_colab_link": true
    },
    "kernelspec": {
      "name": "python3",
      "display_name": "Python 3"
    },
    "language_info": {
      "name": "python"
    }
  },
  "cells": [
    {
      "cell_type": "markdown",
      "metadata": {
        "id": "view-in-github",
        "colab_type": "text"
      },
      "source": [
        "<a href=\"https://colab.research.google.com/github/Nischit-Stha/Victoria_University_asignments/blob/main/Read_csv.ipynb\" target=\"_parent\"><img src=\"https://colab.research.google.com/assets/colab-badge.svg\" alt=\"Open In Colab\"/></a>"
      ]
    },
    {
      "cell_type": "code",
      "execution_count": null,
      "metadata": {
        "colab": {
          "base_uri": "https://localhost:8080/"
        },
        "id": "kR2yD0bix4f_",
        "outputId": "20e368e9-4722-49f4-883f-e6ae19cb9525"
      },
      "outputs": [
        {
          "output_type": "stream",
          "name": "stdout",
          "text": [
            "This program reads student data from a file and prints a dictionary\n",
            "Student Data Dictionary : {'s223': '34', 's456': '65', 's856': '55', 's498': '98', 's459': '67', 's472': '82', 's444': '55', 's67': '69', 's44': '60'}\n"
          ]
        }
      ],
      "source": [
        "\"\"\"\n",
        "Student Name: Nischit Shrestha\n",
        "Student ID: s8168204\n",
        "\"\"\"\n",
        "def load_to_dict(fname):\n",
        "    student_dict = {}\n",
        "    with open(fname, \"r\") as file:  # No error handling, assumes file exists\n",
        "        for line in file:\n",
        "            student_id, score = line.strip().split(\",\")\n",
        "            student_dict[student_id] = int(score)  # Convert score to integer\n",
        "    return student_dict\n",
        "\n",
        "if __name__ == \"__main__\":\n",
        "    fname = \"studData.txt\"\n",
        "    print(\"This program reads student data from a file and prints a dictionary.\")\n",
        "\n",
        "    student_data = load_to_dict(fname)\n",
        "    print(\"Student Data Dictionary:\", student_data)\n"
      ]
    },
    {
      "cell_type": "code",
      "source": [],
      "metadata": {
        "id": "r-b1govW29SL"
      },
      "execution_count": null,
      "outputs": []
    }
  ]
}