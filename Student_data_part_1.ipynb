{
  "nbformat": 4,
  "nbformat_minor": 0,
  "metadata": {
    "colab": {
      "provenance": [],
      "authorship_tag": "ABX9TyMatPHCwXhQeRphlKMJgplI",
      "include_colab_link": true
    },
    "kernelspec": {
      "name": "python3",
      "display_name": "Python 3"
    },
    "language_info": {
      "name": "python"
    }
  },
  "cells": [
    {
      "cell_type": "markdown",
      "metadata": {
        "id": "view-in-github",
        "colab_type": "text"
      },
      "source": [
        "<a href=\"https://colab.research.google.com/github/Nischit-Stha/Victoria_University_asignments/blob/main/Student_data_part_1.ipynb\" target=\"_parent\"><img src=\"https://colab.research.google.com/assets/colab-badge.svg\" alt=\"Open In Colab\"/></a>"
      ]
    },
    {
      "cell_type": "code",
      "execution_count": 20,
      "metadata": {
        "colab": {
          "base_uri": "https://localhost:8080/"
        },
        "id": "O9-wnzVFTS5k",
        "outputId": "5af00834-5047-4391-f754-6b3fb75e814a"
      },
      "outputs": [
        {
          "output_type": "stream",
          "name": "stdout",
          "text": [
            "John Smith    VDIT     4000.0\t500.00\n",
            "Diana Ross    TDIT     2701.0\t600.00\n",
            "Gopal Singh    EES4200     10000.0\t5000.00\t\n",
            "David Copperfield    ECB3244     6000.0\t800.00\n",
            "Jane Gedds    ENE3101     4000.0\t250.00\n",
            "\n"
          ]
        }
      ],
      "source": [
        "\"\"\"\n",
        "Student Name:Nischit Shrestha\n",
        "Student ID:s8168204\n",
        "Date = 09-05-2025\n",
        "\n",
        "\"\"\"\n",
        "f = open ('student.txt')\n",
        "for line in f:\n",
        "  words = line.split()\n",
        "  f_Name = words[0]\n",
        "  s_Name = words[1]\n",
        "  total_fee =float(words[3])\n",
        "  advanced_fee =float(words[4])\n",
        "# calculate fees due\n",
        "  due = total_fee- advanced_fee\n",
        "  print(f'{f_Name+ \" \"+s_Name:<20} {due :>10.2f}')\n",
        "\n",
        "\n",
        "\n",
        "\n",
        "\n",
        "\n",
        "\n",
        "\n",
        "\n",
        "\n",
        "\n",
        "\n",
        "\n",
        "\n",
        "\n",
        "\n"
      ]
    },
    {
      "cell_type": "code",
      "source": [
        ""
      ],
      "metadata": {
        "id": "jTXpjKW9WWzQ"
      },
      "execution_count": 4,
      "outputs": []
    }
  ]
}